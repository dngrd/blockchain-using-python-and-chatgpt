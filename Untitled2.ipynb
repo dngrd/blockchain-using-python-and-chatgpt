{
  "nbformat": 4,
  "nbformat_minor": 0,
  "metadata": {
    "colab": {
      "provenance": [],
      "authorship_tag": "ABX9TyN9AWHNk/FSIxvCARkk/LXr",
      "include_colab_link": true
    },
    "kernelspec": {
      "name": "python3",
      "display_name": "Python 3"
    },
    "language_info": {
      "name": "python"
    }
  },
  "cells": [
    {
      "cell_type": "markdown",
      "metadata": {
        "id": "view-in-github",
        "colab_type": "text"
      },
      "source": [
        "<a href=\"https://colab.research.google.com/github/dngrd/blockchain-using-python-and-chatgpt/blob/main/Untitled2.ipynb\" target=\"_parent\"><img src=\"https://colab.research.google.com/assets/colab-badge.svg\" alt=\"Open In Colab\"/></a>"
      ]
    },
    {
      "cell_type": "code",
      "execution_count": null,
      "metadata": {
        "colab": {
          "base_uri": "https://localhost:8080/"
        },
        "id": "IBcSRKSDNqD9",
        "outputId": "40672e57-a198-4ac1-f96a-0a97adc2d895"
      },
      "outputs": [
        {
          "output_type": "stream",
          "name": "stdout",
          "text": [
            "Starting the miner...\n",
            "Block successfully mined!\n",
            "Balance of miner is 0\n",
            "Starting the miner again...\n",
            "Block successfully mined!\n",
            "Balance of miner is 100\n",
            "Blockchain valid? False\n"
          ]
        }
      ],
      "source": [
        "import hashlib\n",
        "import json\n",
        "import time\n",
        "\n",
        "class Block:\n",
        "    def __init__(self, index, previous_hash, timestamp, transactions, nonce=0):\n",
        "        self.index = index\n",
        "        self.previous_hash = previous_hash\n",
        "        self.timestamp = timestamp\n",
        "        self.transactions = transactions\n",
        "        self.nonce = nonce\n",
        "        self.hash = self.calculate_hash()\n",
        "\n",
        "    def calculate_hash(self):\n",
        "        block_string = json.dumps(self.__dict__, sort_keys=True).encode()\n",
        "        return hashlib.sha256(block_string).hexdigest()\n",
        "\n",
        "    def mine_block(self, difficulty):\n",
        "        while self.hash[:difficulty] != '0' * difficulty:\n",
        "            self.nonce += 1\n",
        "            self.hash = self.calculate_hash()\n",
        "\n",
        "class Blockchain:\n",
        "    def __init__(self):\n",
        "        self.chain = [self.create_genesis_block()]\n",
        "        self.difficulty = 2\n",
        "        self.pending_transactions = []\n",
        "        self.mining_reward = 100\n",
        "\n",
        "    def create_genesis_block(self):\n",
        "        return Block(0, \"0\", time.time(), [])\n",
        "\n",
        "    def get_latest_block(self):\n",
        "        return self.chain[-1]\n",
        "\n",
        "    def mine_pending_transactions(self, mining_reward_address):\n",
        "        block = Block(len(self.chain), self.get_latest_block().hash, time.time(), self.pending_transactions)\n",
        "        block.mine_block(self.difficulty)\n",
        "\n",
        "        print(\"Block successfully mined!\")\n",
        "        self.chain.append(block)\n",
        "\n",
        "        self.pending_transactions = [\n",
        "            {\"from\": None, \"to\": mining_reward_address, \"amount\": self.mining_reward}\n",
        "        ]\n",
        "\n",
        "    def create_transaction(self, transaction):\n",
        "        self.pending_transactions.append(transaction)\n",
        "\n",
        "    def get_balance_of_address(self, address):\n",
        "        balance = 0\n",
        "        for block in self.chain:\n",
        "            for trans in block.transactions:\n",
        "                if trans[\"from\"] == address:\n",
        "                    balance -= trans[\"amount\"]\n",
        "                if trans[\"to\"] == address:\n",
        "                    balance += trans[\"amount\"]\n",
        "        return balance\n",
        "\n",
        "    def is_chain_valid(self):\n",
        "        for i in range(1, len(self.chain)):\n",
        "            current_block = self.chain[i]\n",
        "            previous_block = self.chain[i - 1]\n",
        "\n",
        "            if current_block.hash != current_block.calculate_hash():\n",
        "                return False\n",
        "\n",
        "            if current_block.previous_hash != previous_block.hash:\n",
        "                return False\n",
        "\n",
        "        return True\n",
        "\n",
        "# Example usage\n",
        "if __name__ == \"__main__\":\n",
        "    coin = Blockchain()\n",
        "    coin.create_transaction({\"from\": \"address1\", \"to\": \"address2\", \"amount\": 100})\n",
        "    coin.create_transaction({\"from\": \"address2\", \"to\": \"address1\", \"amount\": 50})\n",
        "\n",
        "    print(\"Starting the miner...\")\n",
        "    coin.mine_pending_transactions(\"miner-address\")\n",
        "\n",
        "    print(\"Balance of miner is\", coin.get_balance_of_address(\"miner-address\"))\n",
        "\n",
        "    coin.create_transaction({\"from\": \"address1\", \"to\": \"address2\", \"amount\": 20})\n",
        "    coin.create_transaction({\"from\": \"address2\", \"to\": \"address1\", \"amount\": 10})\n",
        "\n",
        "    print(\"Starting the miner again...\")\n",
        "    coin.mine_pending_transactions(\"miner-address\")\n",
        "\n",
        "    print(\"Balance of miner is\", coin.get_balance_of_address(\"miner-address\"))\n",
        "\n",
        "    print(\"Blockchain valid?\", coin.is_chain_valid())\n"
      ]
    }
  ]
}